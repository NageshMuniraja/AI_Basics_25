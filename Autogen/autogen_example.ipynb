{
 "cells": [
  {
   "cell_type": "code",
   "execution_count": null,
   "id": "be7a4584",
   "metadata": {},
   "outputs": [],
   "source": [
    "## first Autogen Learning"
   ]
  },
  {
   "cell_type": "code",
   "execution_count": null,
   "id": "4ac13d4f",
   "metadata": {},
   "outputs": [],
   "source": []
  }
 ],
 "metadata": {
  "language_info": {
   "name": "python"
  }
 },
 "nbformat": 4,
 "nbformat_minor": 5
}

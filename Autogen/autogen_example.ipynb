{
 "cells": [
  {
   "cell_type": "code",
   "execution_count": null,
   "id": "be7a4584",
   "metadata": {},
   "outputs": [],
   "source": [
    "## first Autogen Learning"
   ]
  },
  {
   "cell_type": "code",
   "execution_count": 1,
   "id": "4ac13d4f",
   "metadata": {},
   "outputs": [
    {
     "name": "stdout",
     "output_type": "stream",
     "text": [
      "welocome to Autogen\n"
     ]
    }
   ],
   "source": [
    "print(\"welocome to Autogen\")"
   ]
  },
  {
   "cell_type": "code",
   "execution_count": 4,
   "id": "a4e8ed65",
   "metadata": {},
   "outputs": [],
   "source": [
    "from autogen_agentchat.agents import AssistantAgent\n",
    "from autogen_ext.models.openai import OpenAIChatCompletionClient\n",
    "from dotenv import load_dotenv\n",
    "import os\n",
    "load_dotenv()\n",
    "api_key =os.getenv('OPENAI_API_KEY')"
   ]
  },
  {
   "cell_type": "markdown",
   "id": "7a6bfd8e",
   "metadata": {},
   "source": [
    "### connecting to the model using open api key turbo "
   ]
  },
  {
   "cell_type": "code",
   "execution_count": 6,
   "id": "a332e42c",
   "metadata": {},
   "outputs": [
    {
     "name": "stdout",
     "output_type": "stream",
     "text": [
      "Agentic AI refers to artificial intelligence systems that are designed to act autonomously on behalf of their users or owners. These systems are given the authority to make decisions and take actions in order to achieve specific goals or objectives. Agentic AI is often utilized in areas such as robotics, autonomous vehicles, and smart home devices.\n"
     ]
    }
   ],
   "source": [
    "model_client = OpenAIChatCompletionClient(model ='gpt-3.5-turbo', api_key=api_key) # version 0.4 feature model_cleint approach\n",
    "assistant = AssistantAgent(name = 'my_assistant',model_client=model_client)\n",
    "result = await assistant.run(task=\"what is agentic AI\")\n",
    "print(result.messages[-1].content)"
   ]
  },
  {
   "cell_type": "code",
   "execution_count": null,
   "id": "964da197",
   "metadata": {},
   "outputs": [],
   "source": [
    "#messages=[TextMessage(id='27298aae-00d1-400f-820f-cfa024d50c07', source='user', models_usage=None, metadata={}, created_at=datetime.datetime(2025, 7, 28, 18, 23, 30, 919879, tzinfo=datetime.timezone.utc), content='what is agentic AI', type='TextMessage'), TextMessage(id='f53979bb-52cd-45b4-ae57-4c299a7384cf', source='my_assistant', models_usage=RequestUsage(prompt_tokens=41, completion_tokens=44), metadata={}, created_at=datetime.datetime(2025, 7, 28, 18, 23, 32, 44890, tzinfo=datetime.timezone.utc), content='Agentic AI refers to artificial intelligence systems capable of acting autonomously, making decisions, and performing tasks without human intervention. These systems have a sense of agency and are designed to mimic human-like behavior in specific situations.\\n\\nTerminate', type='TextMessage')] stop_reason=None"
   ]
  }
 ],
 "metadata": {
  "kernelspec": {
   "display_name": "venv (3.13.5)",
   "language": "python",
   "name": "python3"
  },
  "language_info": {
   "codemirror_mode": {
    "name": "ipython",
    "version": 3
   },
   "file_extension": ".py",
   "mimetype": "text/x-python",
   "name": "python",
   "nbconvert_exporter": "python",
   "pygments_lexer": "ipython3",
   "version": "3.13.5"
  }
 },
 "nbformat": 4,
 "nbformat_minor": 5
}
